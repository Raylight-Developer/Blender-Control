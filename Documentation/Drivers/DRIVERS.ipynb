{
 "cells": [
  {
   "cell_type": "markdown",
   "metadata": {},
   "source": [
    "<h3 style=\"font-family: 'Courier New', monospace; color: rgb(80, 200, 175);\">I_DRIVER</h3>"
   ]
  },
  {
   "cell_type": "markdown",
   "metadata": {},
   "source": [
    "<h3>Examples</h3>"
   ]
  },
  {
   "cell_type": "code",
   "execution_count": 4,
   "metadata": {},
   "outputs": [],
   "source": [
    "from Window_Env import *"
   ]
  },
  {
   "cell_type": "markdown",
   "metadata": {},
   "source": [
    "Default"
   ]
  },
  {
   "cell_type": "code",
   "execution_count": 5,
   "metadata": {},
   "outputs": [],
   "source": [
    "def processUI(main):\n",
    "\tsuper(Example_Window, main).processUI()\n",
    "\t# EXAMPLE CODE HERE -----------------------------------------------------------------------\n",
    "\tdriver_example : I_DRIVER = main.driver(DRIVER_Type.I)\n",
    "\t# -----------------------------------------------------------------------------------------\n",
    "\tmain.restore()\n",
    "\n",
    "Example_Window.processUI = processUI\n",
    "Example = Example_Window()"
   ]
  },
  {
   "cell_type": "markdown",
   "metadata": {},
   "source": [
    "Hide Label"
   ]
  },
  {
   "cell_type": "code",
   "execution_count": 6,
   "metadata": {},
   "outputs": [],
   "source": [
    "def processUI(main):\n",
    "\tsuper(Example_Window, main).processUI()\n",
    "\t# EXAMPLE CODE HERE -----------------------------------------------------------------------\n",
    "\tdriver_example : I_DRIVER = main.driver(DRIVER_Type.I)\n",
    "\tdriver_example.setLabelIsVisible(False)\n",
    "\t# -----------------------------------------------------------------------------------------\n",
    "\tmain.restore()\n",
    "\n",
    "Example_Window.processUI = processUI\n",
    "Example = Example_Window()"
   ]
  },
  {
   "cell_type": "markdown",
   "metadata": {},
   "source": [
    "Change Label"
   ]
  },
  {
   "cell_type": "code",
   "execution_count": 9,
   "metadata": {},
   "outputs": [],
   "source": [
    "def processUI(main):\n",
    "\tsuper(Example_Window, main).processUI()\n",
    "\t# EXAMPLE CODE HERE -----------------------------------------------------------------------\n",
    "\tdriver_example : I_DRIVER = main.driver(DRIVER_Type.I)\n",
    "\tdriver_example.setLabel(\"LABEL :)\")\n",
    "\tdriver_example.setLabelIcon(Icon.SEARCH)\n",
    "\t# -----------------------------------------------------------------------------------------\n",
    "\tmain.restore()\n",
    "\n",
    "Example_Window.processUI = processUI\n",
    "Example = Example_Window()"
   ]
  },
  {
   "cell_type": "markdown",
   "metadata": {},
   "source": [
    "Set Driver"
   ]
  },
  {
   "cell_type": "code",
   "execution_count": null,
   "metadata": {},
   "outputs": [],
   "source": [
    "def processUI(main):\n",
    "\tsuper(Example_Window, main).processUI()\n",
    "\t# EXAMPLE CODE HERE -----------------------------------------------------------------------\n",
    "\tdriver_example : I_DRIVER = main.driver(DRIVER_Type.I)\n",
    "\tdriver_example.setPythonDriver(\"pass\")\n",
    "\t# -----------------------------------------------------------------------------------------\n",
    "\tmain.restore()\n",
    "\n",
    "Example_Window.processUI = processUI\n",
    "Example = Example_Window()"
   ]
  },
  {
   "cell_type": "markdown",
   "metadata": {},
   "source": [
    "Enable Keyframing"
   ]
  },
  {
   "cell_type": "code",
   "execution_count": 8,
   "metadata": {},
   "outputs": [],
   "source": [
    "def processUI(main):\n",
    "\tsuper(Example_Window, main).processUI()\n",
    "\t# EXAMPLE CODE HERE -----------------------------------------------------------------------\n",
    "\tdriver_example : I_DRIVER = main.driver(DRIVER_Type.I)\n",
    "\tdriver_example.setAddKeyframeExpresssion(\"pass\")\n",
    "\tdriver_example.setRemoveKeyframeExpresssion(\"pass\")\n",
    "\t# -----------------------------------------------------------------------------------------\n",
    "\tmain.restore()\n",
    "\n",
    "Example_Window.processUI = processUI\n",
    "Example = Example_Window()"
   ]
  },
  {
   "cell_type": "markdown",
   "metadata": {},
   "source": [
    "Limits"
   ]
  },
  {
   "cell_type": "code",
   "execution_count": 7,
   "metadata": {},
   "outputs": [],
   "source": [
    "def processUI(main):\n",
    "\tsuper(Example_Window, main).processUI()\n",
    "\t# EXAMPLE CODE HERE -----------------------------------------------------------------------\n",
    "\tdriver_example : I_DRIVER = main.driver(DRIVER_Type.I)\n",
    "\tdriver_example.setMin(-5)\n",
    "\tdriver_example.setMax(5)\n",
    "\t# -----------------------------------------------------------------------------------------\n",
    "\tmain.restore()\n",
    "\n",
    "Example_Window.processUI = processUI\n",
    "Example = Example_Window()"
   ]
  },
  {
   "cell_type": "markdown",
   "metadata": {},
   "source": [
    "Soft Limits"
   ]
  },
  {
   "cell_type": "code",
   "execution_count": 2,
   "metadata": {},
   "outputs": [],
   "source": [
    "def processUI(main):\n",
    "\tsuper(Example_Window, main).processUI()\n",
    "\t# EXAMPLE CODE HERE -----------------------------------------------------------------------\n",
    "\tdriver_example : I_DRIVER = main.driver(DRIVER_Type.I)\n",
    "\tdriver_example.setMin(-10)\n",
    "\tdriver_example.setMax(10)\n",
    "\tdriver_example.setSoftMin(-5)\n",
    "\tdriver_example.setSoftMax(5)\n",
    "\t# -----------------------------------------------------------------------------------------\n",
    "\tmain.restore()\n",
    "\n",
    "Example_Window.processUI = processUI\n",
    "Example = Example_Window()"
   ]
  },
  {
   "cell_type": "markdown",
   "metadata": {},
   "source": [
    "Chaining"
   ]
  },
  {
   "cell_type": "code",
   "execution_count": 5,
   "metadata": {},
   "outputs": [],
   "source": [
    "def processUI(main):\n",
    "\tsuper(Example_Window, main).processUI()\n",
    "\t# EXAMPLE CODE HERE -----------------------------------------------------------------------\n",
    "\tdriver_example : I_DRIVER = main.driver(DRIVER_Type.I)\n",
    "\tdriver_example.setLabel(\"LABEL :)\").setLabelIcon(Icon.SEARCH)\n",
    "\tdriver_example.setMin(-10).setMax(10).setSoftMin(-5).setSoftMax(5)\n",
    "\tdriver_example.setPythonDriver(\"pass\").setAddKeyframeExpresssion(\"pass\").setRemoveKeyframeExpresssion(\"pass\")\n",
    "\t# -----------------------------------------------------------------------------------------\n",
    "\tmain.restore()\n",
    "\n",
    "Example_Window.processUI = processUI\n",
    "Example = Example_Window()"
   ]
  }
 ],
 "metadata": {
  "kernelspec": {
   "display_name": "Python 3",
   "language": "python",
   "name": "python3"
  },
  "language_info": {
   "codemirror_mode": {
    "name": "ipython",
    "version": 3
   },
   "file_extension": ".py",
   "mimetype": "text/x-python",
   "name": "python",
   "nbconvert_exporter": "python",
   "pygments_lexer": "ipython3",
   "version": "3.11.2"
  }
 },
 "nbformat": 4,
 "nbformat_minor": 2
}
